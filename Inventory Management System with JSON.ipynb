{
 "cells": [
  {
   "cell_type": "code",
   "execution_count": 23,
   "id": "2dc15bd3-a5dc-4ef8-abc1-10ff83be6c37",
   "metadata": {},
   "outputs": [],
   "source": [
    "record={1001:{\"Name\":\"Choclate \",\"Price\":10  ,\"Quantity\":200},\n",
    "        1002:{\"Name\":\"Cake     \",\"Price\":100 ,\"Quantity\":20},\n",
    "        1003:{\"Name\":\"Sandwich \",\"Price\":200 ,\"Quantity\":10},\n",
    "        1004:{\"Name\":\"5-Star   \",\"Price\":10  ,\"Quantity\":100},\n",
    "        1005:{\"Name\":\"Candy    \", \"Price\":2  ,\"Quantity\":300}}"
   ]
  },
  {
   "cell_type": "code",
   "execution_count": 18,
   "id": "c1db6a39-322b-41be-b26f-0d87146ff915",
   "metadata": {},
   "outputs": [
    {
     "data": {
      "text/plain": [
       "{1001: {'Name': 'Choclate', 'Price': 10, 'Quantity': 200},\n",
       " 1002: {'Name': 'Cake     ', 'Price': 100, 'Quantity': 20},\n",
       " 1003: {'Name': 'Sandwich ', 'Price': 200, 'Quantity': 10},\n",
       " 1004: {'Name': '5-Star   ', 'Price': 10, 'Quantity': 100},\n",
       " 1005: {'Name': 'Candy    ', 'Price': 2, 'Quantity': 300}}"
      ]
     },
     "execution_count": 18,
     "metadata": {},
     "output_type": "execute_result"
    }
   ],
   "source": [
    "record"
   ]
  },
  {
   "cell_type": "code",
   "execution_count": 29,
   "id": "d40741e7-fd74-4630-a484-185d79cff728",
   "metadata": {},
   "outputs": [
    {
     "name": "stdout",
     "output_type": "stream",
     "text": [
      "-------------MENU-----------------\n",
      "Pro_ID   Name   Price   Quantity\n",
      "1001 : Choclate  | 10 | 189\n",
      "1002 : Cake      | 100 | 0\n",
      "1003 : Sandwich  | 200 | 0\n",
      "1004 : 5-Star    | 10 | 95\n",
      "1005 : Candy     | 2 | 295\n",
      "----------------------------------------\n"
     ]
    },
    {
     "name": "stdin",
     "output_type": "stream",
     "text": [
      "Enter your name:  Ashlesha Madhusudan Pal\n",
      "Enter your email:  ashleshapal467@gmail.com\n",
      "Enter your phone number:  09421374327\n",
      "Enter product id: 1001\n",
      "Enter how many quantity do u want?: 5\n"
     ]
    },
    {
     "name": "stdout",
     "output_type": "stream",
     "text": [
      "----------------------------------------\n",
      "-------------------BILL-----------------\n",
      "Product Name:         Choclate \n",
      "Product Price:        10 Rs\n",
      "Product Quantity:     5\n",
      "----------------------------------------\n",
      "Billing Amount:       50 Rs\n",
      "----------------------------------------\n",
      " \n",
      "Thanks for your order, Inventory updated\n",
      "----------------------------------------\n"
     ]
    }
   ],
   "source": [
    "#import Libraries\n",
    "import json\n",
    "import time\n",
    "\n",
    "#Initialising Variables\n",
    "sale=' '\n",
    "\n",
    "#Loading The Inventory Records from JSON to String\n",
    "fd=open(\"Record.json\",'r')\n",
    "fd.read()\n",
    "fd.close()\n",
    "\n",
    "#Converting String Records to JSON/Dictionaries\n",
    "record=json.loads(js)\n",
    "\n",
    "#Displaying Menu\n",
    "print(\"-------------MENU-----------------\")\n",
    "print(\"Pro_ID   Name   Price   Quantity\")\n",
    "for key in record.keys():\n",
    "    print(key,\":\",record[key][\"Name\"],\"|\",record[key][\"Price\"],\"|\",record[key][\"Quantity\"])\n",
    "print(\"-\"*40)\n",
    "\n",
    "#Taking input from user\n",
    "ur_name=str(input(\"Enter your name: \"))\n",
    "ur_email=str(input(\"Enter your email: \"))\n",
    "ur_phone_no=str(input(\"Enter your phone number: \"))\n",
    "ur_pr=str(input(\"Enter product id:\"))\n",
    "ur_qn=int(input(\"Enter how many quantity do u want?:\"))\n",
    "print(\"-\"*40)\n",
    "\n",
    "#If we're having equal or more quantity than user wants\n",
    "if(record[ur_pr][\"Quantity\"]>=ur_qn):\n",
    "    \n",
    "    print(\"-------------------BILL-----------------\")\n",
    "    print(\"Product Name:        \",record[ur_pr][\"Name\"])\n",
    "    print(\"Product Price:       \",record[ur_pr][\"Price\"],\"Rs\")\n",
    "    print(\"Product Quantity:    \",ur_qn)\n",
    "    print(\"-\"*40)\n",
    "    print(\"Billing Amount:      \",ur_qn*record[ur_pr][\"Price\"],\"Rs\")\n",
    "    print(\"-\"*40)\n",
    "\n",
    "    #updating Records Dictionary\n",
    "    record[ur_pr][\"Quantity\"]=record[ur_pr][\"Quantity\"]-ur_qn\n",
    "\n",
    "    # Generating Sales Structure in CSV\n",
    "    sale=ur_name+\",\"+ur_email+\",\"+ur_phone_no+\",\"+ur_pr+\",\"+record[ur_pr][\"Name\"]+\",\"+str(ur_qn)+\",\"+str(record[ur_pr][\"Price\"])+\",\"+str(ur_qn*record[ur_pr][\"Price\"])+\",\"+time.ctime()+\"\\n\"\n",
    "\n",
    "#if we're not having enough quantity\n",
    "else:\n",
    "    #Displaying Info about quantity\n",
    "    print(\"Sorry, We don't have enough quantity!\")\n",
    "    print(\"We have only\", record[ur_pr][\"Quantity\"],\" Quantity\")\n",
    "    print(\"Do you want to purchase\")\n",
    "\n",
    "    #If user wants to purchase whole Quantity for that product\n",
    "    ch=input(\"Enter your choice Y/N: \")\n",
    "    if(ch=='Y' or ch=='y'):\n",
    "        #Displaying Purchase Detail\n",
    "        print(\"-------------------BILL-----------------\")\n",
    "        print(\"Product Name:        \",record[ur_pr][\"Name\"])\n",
    "        print(\"Product Price:       \",record[ur_pr][\"Price\"],\"Rs\")\n",
    "        print(\"Product Quantity:    \",record[ur_pr][\"Quantity\"])\n",
    "        print(\"-\"*40)\n",
    "        print(\"Billing Amount:      \",record[ur_pr][\"Quantity\"]*record[ur_pr][\"Price\"],\"Rs\")\n",
    "        print(\"-\"*40)\n",
    "\n",
    "        #Generating Sales Structure in CSV\n",
    "        sale=ur_name+\",\"+ur_email+\",\"+ur_phone_no+\",\"+ur_pr+\",\"+record[ur_pr][\"Names\"]+\",\"+str(record[ur_pr][\"Quantity\"])+\",\"+str(record[ur_pr][\"Price\"])+\",\"+str(record[ur_pr][\"Quantity\"]*record[ur_pr][\"Price\"])+\",\"+time.ctime()+\"\\n\"\n",
    "\n",
    "        #Updating Records Dictionary\n",
    "        record[ur_pr][\"Quantity\"]=0\n",
    "\n",
    "    #If user pressed anything other than Y/y\n",
    "    else:\n",
    "        print(\"Thanks for u time\")\n",
    "    \n",
    "#Converting Dictionary to String\n",
    "js=json.dumps(record)\n",
    "\n",
    "#Saving Records in JSON file\n",
    "fd=open(\"Record.json\",'w')\n",
    "fd.write(js)\n",
    "fd.close()\n",
    "\n",
    "#Saving Records in Text file\n",
    "fd=open(\"Sales.txt\",'a')\n",
    "fd.write(sale)\n",
    "fd.close()\n",
    "\n",
    "print(\" \" )\n",
    "print(\"Thanks for your order, Inventory updated\")\n",
    "print(\"-\"*40)"
   ]
  },
  {
   "cell_type": "code",
   "execution_count": 27,
   "id": "157de38a-9afd-4cb3-af39-15b7f97b329d",
   "metadata": {},
   "outputs": [
    {
     "data": {
      "text/plain": [
       "'ash,ashleshapal467@gmail.com,1234,1001,Choclate ,2,10,20,Wed Oct  2 20:39:29 2024'"
      ]
     },
     "execution_count": 27,
     "metadata": {},
     "output_type": "execute_result"
    }
   ],
   "source": [
    "sale"
   ]
  },
  {
   "cell_type": "code",
   "execution_count": 2,
   "id": "21f8c3b9-b74d-4f27-919e-f1c918728a74",
   "metadata": {},
   "outputs": [],
   "source": [
    "dict={}\n",
    "dict[103]='Hello'"
   ]
  },
  {
   "cell_type": "code",
   "execution_count": 3,
   "id": "8206428f-1f7d-4505-935b-49d269d03301",
   "metadata": {},
   "outputs": [
    {
     "name": "stdout",
     "output_type": "stream",
     "text": [
      "{103: 'Hello'}\n"
     ]
    }
   ],
   "source": [
    "print(dict)"
   ]
  },
  {
   "cell_type": "code",
   "execution_count": 4,
   "id": "9884111e-36df-498c-8da0-468d872c9e85",
   "metadata": {},
   "outputs": [
    {
     "name": "stdout",
     "output_type": "stream",
     "text": [
      "{103: 'Hello', 104: 'Hello'}\n"
     ]
    }
   ],
   "source": [
    "dict[104]='Hello'\n",
    "print(dict)"
   ]
  },
  {
   "cell_type": "code",
   "execution_count": null,
   "id": "9265103e-c4f8-4200-9899-758cf5d757ea",
   "metadata": {},
   "outputs": [],
   "source": []
  }
 ],
 "metadata": {
  "kernelspec": {
   "display_name": "Python 3 (ipykernel)",
   "language": "python",
   "name": "python3"
  },
  "language_info": {
   "codemirror_mode": {
    "name": "ipython",
    "version": 3
   },
   "file_extension": ".py",
   "mimetype": "text/x-python",
   "name": "python",
   "nbconvert_exporter": "python",
   "pygments_lexer": "ipython3",
   "version": "3.11.7"
  }
 },
 "nbformat": 4,
 "nbformat_minor": 5
}
