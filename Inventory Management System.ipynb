{
 "cells": [
  {
   "cell_type": "code",
   "execution_count": 1,
   "id": "c071b816-81d0-4093-93c9-5f262fd55019",
   "metadata": {},
   "outputs": [],
   "source": [
    "fd=open(\"Inventory.txt\",'w')\n",
    "fd.close()"
   ]
  },
  {
   "cell_type": "markdown",
   "id": "f88d7dd7-446c-44ce-843e-7bbe45b91d77",
   "metadata": {},
   "source": [
    "#PRODUCT DEATILS\n",
    "1.Product id\n",
    "2.Name\n",
    "3.Price\n",
    "4.Quantity"
   ]
  },
  {
   "cell_type": "code",
   "execution_count": 16,
   "id": "40e2c7a0-dbc4-47e5-b68f-00f4e9eb8a7d",
   "metadata": {},
   "outputs": [
    {
     "name": "stdout",
     "output_type": "stream",
     "text": [
      "1,5-star,5,100\n",
      "2,Milky Bar,5,100\n",
      "3,Cake,100,5\n",
      "4,Candy,1,200\n"
     ]
    }
   ],
   "source": [
    "for i in products:\n",
    "    print(i)"
   ]
  },
  {
   "cell_type": "code",
   "execution_count": 17,
   "id": "05ebce88-8792-4fd7-8322-6cac59ab3c67",
   "metadata": {},
   "outputs": [
    {
     "name": "stdin",
     "output_type": "stream",
     "text": [
      "Enter your name: Shiv\n",
      "Enter phone no: 4567\n",
      "Enter email: shiv@gmail.com\n",
      "Enter product id: 2\n",
      "Enter quantity: 5\n"
     ]
    },
    {
     "name": "stdout",
     "output_type": "stream",
     "text": [
      "--------------------\n",
      "Product Name  : Milky Bar\n",
      "Price         : 5\n",
      "Quantity      : 5\n",
      "--------------------\n",
      "Billing       : 25\n",
      "--------------------\n"
     ]
    }
   ],
   "source": [
    "#noting time of transaction\n",
    "import time\n",
    "\n",
    "#Reading the Inventory\n",
    "fd=open(\"Inventory.txt\",'r')\n",
    "products=fd.read().split(\"\\n\")\n",
    "fd.close()\n",
    "\n",
    "#Taking input from user\n",
    "username=input(\"Enter your name:\" )\n",
    "ur_phone_no=input(\"Enter phone no:\")\n",
    "ur_email=input(\"Enter email:\")\n",
    "ur_pro=input(\"Enter product id:\" )\n",
    "ur_qn=input(\"Enter quantity:\" )\n",
    "\n",
    "updated_product_list=[]\n",
    "\n",
    "#accesing each product details\n",
    "for product in products:\n",
    "    prod_details=product.split(',')\n",
    "    if(prod_details[0]==ur_pro):\n",
    "        #checking if product exixts or not\n",
    "\n",
    "         if(int(ur_qn) <= int(prod_details[3])):\n",
    "              #If we are having enough quantity\n",
    "             print(\"-\"*20)\n",
    "             print(\"Product Name  :\",prod_details[1])\n",
    "             print(\"Price         :\",prod_details[2])\n",
    "             print(\"Quantity      :\",ur_qn)\n",
    "             print(\"-\"*20)\n",
    "             print(\"Billing       :\",int(ur_qn)*int(prod_details[2]))\n",
    "             print(\"-\"*20)\n",
    "             \n",
    "             #updating Inventory list\n",
    "             prod_details[3]=str(int(prod_details[3])-int(ur_qn))\n",
    "\n",
    "             #Generating sales\n",
    "             fd=open(\"Sales.txt\",'a')\n",
    "             sales_details=username+\",\"+ur_phone_no+\",\"+ur_email+\",\"+prod_details[1]+\",\"+ur_pro+\",\"+ur_qn+\",\"+str(int(ur_qn)*int(prod_details[2]))+time.ctime()+\"\\n\"\n",
    "             fd.write(sales_details)\n",
    "             fd.close()\n",
    "            \n",
    "\n",
    "         else:\n",
    "            #if we're not having enough quantity\n",
    "            print(\"Sorry, We're not having enough quantity\")\n",
    "            print(\"We're having only\", prod_details[3],\" quantity\")\n",
    "            print(\"Would you like to purchase all\")\n",
    "            \n",
    "            ch=input(\"Press Y/N\")\n",
    "            \n",
    "            if(ch=='Y' or ch=='y'):\n",
    "            #if you want to purchase with reaming quantity\n",
    "                print(\"-\"*20)\n",
    "                print(\"Product Name  :\",prod_details[1])\n",
    "                print(\"Price         :\",prod_details[2])\n",
    "                print(\"Quantity      :\",prod_details[3])\n",
    "                print(\"-\"*20)\n",
    "                print(\"Billing       :\",int(prod_details[3])*int(prod_details[2]))\n",
    "                print(\"-\"*20)\n",
    "            \n",
    "                \n",
    "                #Generating sales\n",
    "                fd=open(\"Sales.txt\",'a')\n",
    "                sales_details=username+\",\"+ur_phone_no+\",\"+ur_email+\",\"+prod_details[1]+\",\"+ur_pro+\",\"+prod_details[3]+\",\"+str(int(prod_details[3])*int(prod_details[2])))+time.ctime()+\"\\n\"\n",
    "                fd.write(sales_details)\n",
    "                fd.close()\n",
    "                \n",
    "                prod_details[3]='0'\n",
    "            \n",
    "            else:\n",
    "                print(\"Thanks\")\n",
    "            \n",
    "    #updating my Inventory list    \n",
    "    updated_product_list.append(prod_details)\n",
    "    \n",
    "lst=[]\n",
    "\n",
    "#updating my Inventory String\n",
    "for i in updated_product_list:\n",
    "    prod=i[0]+\",\"+i[1]+\",\"+i[2]+\",\"+i[3]+\"\\n\"\n",
    "    lst.append(prod)\n",
    "\n",
    "#removing last \\n from list\n",
    "lst[-1]=lst[-1][:-1]\n",
    "\n",
    "#opening Inventory file\n",
    "fd=open(\"Inventory.txt\",'w')\n",
    "for i in lst:\n",
    "    fd.write(i)\n",
    "fd.close()"
   ]
  },
  {
   "cell_type": "code",
   "execution_count": null,
   "id": "8f398c37-214b-49e4-9923-702e33a5da2d",
   "metadata": {},
   "outputs": [],
   "source": []
  }
 ],
 "metadata": {
  "kernelspec": {
   "display_name": "Python 3 (ipykernel)",
   "language": "python",
   "name": "python3"
  },
  "language_info": {
   "codemirror_mode": {
    "name": "ipython",
    "version": 3
   },
   "file_extension": ".py",
   "mimetype": "text/x-python",
   "name": "python",
   "nbconvert_exporter": "python",
   "pygments_lexer": "ipython3",
   "version": "3.11.7"
  }
 },
 "nbformat": 4,
 "nbformat_minor": 5
}
